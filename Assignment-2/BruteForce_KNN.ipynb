{
 "cells": [
  {
   "cell_type": "code",
   "execution_count": 2,
   "metadata": {},
   "outputs": [],
   "source": [
    "import numpy as np"
   ]
  },
  {
   "cell_type": "code",
   "execution_count": 3,
   "metadata": {},
   "outputs": [
    {
     "name": "stdout",
     "output_type": "stream",
     "text": [
      "[[0.61622647 0.98992296]\n",
      " [0.51586886 0.17468212]\n",
      " [0.34255353 0.21025512]\n",
      " [0.1433654  0.18473186]\n",
      " [0.83646268 0.20496469]\n",
      " [0.37573081 0.91046702]\n",
      " [0.76687421 0.89211962]\n",
      " [0.19676688 0.24259009]\n",
      " [0.59629561 0.33882238]\n",
      " [0.93796882 0.28259734]]\n"
     ]
    }
   ],
   "source": [
    "# Random data generation\n",
    "n = 10\n",
    "d = 2\n",
    "data  = np.random.random((n, d)) \n",
    "print(data)"
   ]
  },
  {
   "cell_type": "code",
   "execution_count": 37,
   "metadata": {},
   "outputs": [],
   "source": [
    "def generateData(samples, dim):\n",
    "    return np.random.random((samples, dim)) \n",
    "def sampleQueryPointsIndices(samples,data):\n",
    "    return np.random.randint(data.shape[0], size=samples)\n",
    "#data[np.random.randint(data.shape[0], size=samples),:]\n",
    "# A[np.random.randint(A.shape[0], size=2), :]"
   ]
  },
  {
   "cell_type": "code",
   "execution_count": 38,
   "metadata": {},
   "outputs": [
    {
     "data": {
      "text/plain": [
       "array([[0.93372655, 0.2254289 , 0.24366637],\n",
       "       [0.3665415 , 0.70955448, 0.77457198],\n",
       "       [0.5960356 , 0.10750183, 0.38910236],\n",
       "       [0.94670289, 0.33856233, 0.34150793],\n",
       "       [0.80356542, 0.89910847, 0.28738839],\n",
       "       [0.50404602, 0.60277146, 0.12252469],\n",
       "       [0.97285375, 0.07130469, 0.50593201],\n",
       "       [0.91411523, 0.48285617, 0.15351735],\n",
       "       [0.91857749, 0.0565019 , 0.98745637],\n",
       "       [0.31746978, 0.11827055, 0.88581668]])"
      ]
     },
     "execution_count": 38,
     "metadata": {},
     "output_type": "execute_result"
    }
   ],
   "source": [
    "data  = generateData(10,3)\n",
    "data"
   ]
  },
  {
   "cell_type": "code",
   "execution_count": 39,
   "metadata": {},
   "outputs": [
    {
     "name": "stdout",
     "output_type": "stream",
     "text": [
      "[1 0 7]\n"
     ]
    }
   ],
   "source": [
    "sample= sampleQueryPoints(3,data)\n",
    "print(sample)"
   ]
  },
  {
   "cell_type": "code",
   "execution_count": 28,
   "metadata": {},
   "outputs": [],
   "source": [
    "def distance(point1 , point2, norm):\n",
    "    if norm == '1':\n",
    "        return np.linalg.norm(point1-point2,1)\n",
    "    if norm == '2':\n",
    "        return np.linalg.norm(point1-point2,2)\n",
    "    if norm == 'inf':\n",
    "        return np.linalg.norm(point1-point2,np.inf)\n",
    "    "
   ]
  },
  {
   "cell_type": "code",
   "execution_count": 29,
   "metadata": {},
   "outputs": [
    {
     "name": "stdout",
     "output_type": "stream",
     "text": [
      "[0.32850621 0.22375265 0.81642042]\n",
      "[0.73652635 0.73166707 0.51070564]\n"
     ]
    }
   ],
   "source": [
    "point1 = sample[0]\n",
    "point2 = sample[1]\n",
    "print(point1)\n",
    "print(point2)"
   ]
  },
  {
   "cell_type": "code",
   "execution_count": 30,
   "metadata": {},
   "outputs": [
    {
     "data": {
      "text/plain": [
       "0.5079144150061609"
      ]
     },
     "execution_count": 30,
     "metadata": {},
     "output_type": "execute_result"
    }
   ],
   "source": [
    "distance(point1,point2,'inf')"
   ]
  },
  {
   "cell_type": "code",
   "execution_count": 77,
   "metadata": {},
   "outputs": [],
   "source": [
    "def getRatio(query_point_index, data):\n",
    "    query_point = data[query_point_index,:]\n",
    "    \n",
    "    farthest_distance1 = 0\n",
    "    farthest_distance2 = 0\n",
    "    farthest_distance_inf = 0\n",
    "    \n",
    "    closest_distance1 = 100000\n",
    "    closest_distance2 = 100000\n",
    "    closest_distance_inf = 100000\n",
    "    \n",
    "    \n",
    "    for i in range(data.shape[0]):\n",
    "        if i == query_point_index :\n",
    "            continue\n",
    "        point = data[i,:]\n",
    "        curr1 = distance(query_point, point,'1')\n",
    "        curr2 = distance(query_point, point,'2')\n",
    "        curr_inf = distance(query_point, point,'inf')\n",
    "        if farthest_distance1 < curr1:\n",
    "            farthest_distance1 = curr1\n",
    "        if farthest_distance2 < curr2:\n",
    "            farthest_distance2 = curr2\n",
    "        if farthest_distance_inf < curr_inf:\n",
    "            farthest_distance_inf = curr_inf\n",
    "            \n",
    "        if closest_distance1 > curr1:\n",
    "            closest_distance1 = curr1\n",
    "        if closest_distance2 > curr2:\n",
    "            closest_distance2 = curr2\n",
    "        if closest_distance_inf > curr_inf:\n",
    "            closest_distance_inf = curr_inf\n",
    "#         print(curr1)\n",
    "    \n",
    "    \n",
    "    print(closest_distance1)\n",
    "    return farthest_distance1/closest_distance1 , farthest_distance2/closest_distance2,farthest_distance_inf/closest_distance_inf"
   ]
  },
  {
   "cell_type": "code",
   "execution_count": 78,
   "metadata": {},
   "outputs": [],
   "source": [
    "def averageRatio(samples,dim): #100 samples\n",
    "    data = generateData(100,dim)\n",
    "    sample_indices = sampleQueryPointsIndices(samples,data)\n",
    "    ratio1 = 0\n",
    "    ratio2 = 0\n",
    "    ratio_inf = 0\n",
    "    for index in sample_indices:\n",
    "        r1, r2, r_inf = getRatio(index,data)\n",
    "        ratio1 = ratio1 + r1\n",
    "        ratio2 = ratio2 + r2\n",
    "        ratio_inf = ratio_inf + r_inf\n",
    "        \n",
    "    avg_ratio1 = ratio1/samples\n",
    "    avg_ratio2 = ratio2/samples\n",
    "    avg_ratio_inf = ratio_inf/samples\n",
    "    return avg_ratio1,avg_ratio2,avg_ratio_inf\n",
    "    \n",
    "    "
   ]
  },
  {
   "cell_type": "code",
   "execution_count": 81,
   "metadata": {},
   "outputs": [
    {
     "name": "stdout",
     "output_type": "stream",
     "text": [
      "18.031847943961733\n",
      "16.07587793748415\n",
      "15.448069541829497\n",
      "17.38197460146762\n",
      "15.448069541829497\n",
      "17.08931787064271\n",
      "17.854401208373556\n",
      "17.1289900781735\n",
      "17.903332771399235\n",
      "16.07587793748415\n",
      "17.291081211298888\n",
      "16.96657215724433\n",
      "17.854401208373556\n",
      "16.98910303260967\n",
      "15.637834958663019\n",
      "17.1289900781735\n",
      "15.968453468731672\n",
      "16.539390940039706\n",
      "16.98910303260967\n",
      "16.423773704290383\n",
      "15.980410803401723\n",
      "17.616304268732023\n",
      "17.34849824632483\n",
      "15.637834958663019\n",
      "15.891886215431807\n",
      "16.98910303260967\n",
      "17.585654585826486\n",
      "17.290716515793108\n",
      "17.903332771399235\n",
      "15.732697745749613\n",
      "17.290716515793108\n",
      "16.772199949858237\n",
      "16.143191594383776\n",
      "16.423773704290383\n",
      "15.959931290559144\n",
      "15.448069541829497\n",
      "16.5761672598328\n",
      "15.959931290559144\n",
      "17.649909205342176\n",
      "17.38197460146762\n",
      "16.234493657957007\n",
      "16.868716904829892\n",
      "17.238615030971168\n",
      "16.539390940039706\n",
      "16.008528010567822\n",
      "16.85244258349437\n",
      "17.290716515793108\n",
      "17.389600538830756\n",
      "17.66714264192929\n",
      "17.08931787064271\n",
      "15.873087328282375\n",
      "16.85244258349437\n",
      "16.78617651100865\n",
      "15.448069541829497\n",
      "16.008528010567822\n",
      "16.5761672598328\n",
      "17.046347086042836\n",
      "17.699099611913006\n",
      "16.85244258349437\n",
      "18.199264794304188\n",
      "17.649909205342176\n",
      "16.772199949858237\n",
      "17.594473960121807\n",
      "16.51278536075474\n",
      "17.046347086042836\n",
      "17.28991304249198\n",
      "17.413283487187655\n",
      "16.234493657957007\n",
      "17.046347086042836\n",
      "17.884998854085662\n",
      "17.927224462847803\n",
      "17.40429221569037\n",
      "17.884998854085662\n",
      "16.07587793748415\n",
      "16.426335793398916\n",
      "16.008528010567822\n",
      "17.54248577755925\n",
      "18.810669335417842\n",
      "17.884998854085662\n",
      "16.835132150074262\n",
      "18.66715668187493\n",
      "17.565595682246887\n",
      "18.31801521311229\n",
      "16.96657215724433\n",
      "15.016191320326065\n",
      "18.810669335417842\n",
      "15.77153827302917\n",
      "17.903332771399235\n",
      "17.001386077169222\n",
      "17.34849824632483\n",
      "17.109836671084935\n",
      "16.486702692398037\n",
      "16.07587793748415\n",
      "15.873087328282375\n",
      "17.884998854085662\n",
      "17.66714264192929\n",
      "17.1289900781735\n",
      "16.539390940039706\n",
      "16.539390940039706\n",
      "18.810669335417842\n",
      "(1.5218367238773798, 1.4097485451268066, 1.361769722096997)\n"
     ]
    }
   ],
   "source": [
    "print(averageRatio(100,64))"
   ]
  },
  {
   "cell_type": "code",
   "execution_count": 75,
   "metadata": {},
   "outputs": [
    {
     "name": "stdout",
     "output_type": "stream",
     "text": [
      "{1: (556.6852959323118, 556.6852959323118, 556.6852959323118), 2: (28.17633879618016, 24.843847403265578, 22.668330235768703), 4: (8.290173929144771, 7.131113763088889, 6.52739896442312), 8: (3.5974033166625063, 3.0971100178138578, 2.872790568904545), 16: (2.370541394099987, 2.1281847056907597, 2.012586448288059), 32: (1.8460602834474895, 1.6613734573203933, 1.568425591983513), 64: (1.5147537159512934, 1.4053337314936758, 1.339394846867532)}\n"
     ]
    }
   ],
   "source": [
    "dimensions = [1, 2, 4, 8, 16, 32, 64]\n",
    "ratio_dict = {}\n",
    "for dim in dimensions:\n",
    "    ratio_dict[dim] = averageRatio(100,dim)\n",
    "print(ratio_dict)\n",
    "    "
   ]
  },
  {
   "cell_type": "code",
   "execution_count": 76,
   "metadata": {},
   "outputs": [
    {
     "ename": "TypeError",
     "evalue": "float() argument must be a string or a number, not 'dict'",
     "output_type": "error",
     "traceback": [
      "\u001b[1;31m---------------------------------------------------------------------------\u001b[0m",
      "\u001b[1;31mTypeError\u001b[0m                                 Traceback (most recent call last)",
      "\u001b[1;32m<ipython-input-76-b65de703a485>\u001b[0m in \u001b[0;36m<module>\u001b[1;34m\u001b[0m\n\u001b[1;32m----> 1\u001b[1;33m \u001b[0mplt\u001b[0m\u001b[1;33m.\u001b[0m\u001b[0mplot\u001b[0m\u001b[1;33m(\u001b[0m\u001b[0mratio_dict\u001b[0m\u001b[1;33m)\u001b[0m\u001b[1;33m\u001b[0m\u001b[1;33m\u001b[0m\u001b[0m\n\u001b[0m",
      "\u001b[1;32mc:\\users\\chinmay\\appdata\\local\\programs\\python\\python37\\lib\\site-packages\\matplotlib\\pyplot.py\u001b[0m in \u001b[0;36mplot\u001b[1;34m(scalex, scaley, data, *args, **kwargs)\u001b[0m\n\u001b[0;32m   2794\u001b[0m     return gca().plot(\n\u001b[0;32m   2795\u001b[0m         *args, scalex=scalex, scaley=scaley, **({\"data\": data} if data\n\u001b[1;32m-> 2796\u001b[1;33m         is not None else {}), **kwargs)\n\u001b[0m\u001b[0;32m   2797\u001b[0m \u001b[1;33m\u001b[0m\u001b[0m\n\u001b[0;32m   2798\u001b[0m \u001b[1;33m\u001b[0m\u001b[0m\n",
      "\u001b[1;32mc:\\users\\chinmay\\appdata\\local\\programs\\python\\python37\\lib\\site-packages\\matplotlib\\axes\\_axes.py\u001b[0m in \u001b[0;36mplot\u001b[1;34m(self, scalex, scaley, data, *args, **kwargs)\u001b[0m\n\u001b[0;32m   1665\u001b[0m         \u001b[0mlines\u001b[0m \u001b[1;33m=\u001b[0m \u001b[1;33m[\u001b[0m\u001b[1;33m*\u001b[0m\u001b[0mself\u001b[0m\u001b[1;33m.\u001b[0m\u001b[0m_get_lines\u001b[0m\u001b[1;33m(\u001b[0m\u001b[1;33m*\u001b[0m\u001b[0margs\u001b[0m\u001b[1;33m,\u001b[0m \u001b[0mdata\u001b[0m\u001b[1;33m=\u001b[0m\u001b[0mdata\u001b[0m\u001b[1;33m,\u001b[0m \u001b[1;33m**\u001b[0m\u001b[0mkwargs\u001b[0m\u001b[1;33m)\u001b[0m\u001b[1;33m]\u001b[0m\u001b[1;33m\u001b[0m\u001b[1;33m\u001b[0m\u001b[0m\n\u001b[0;32m   1666\u001b[0m         \u001b[1;32mfor\u001b[0m \u001b[0mline\u001b[0m \u001b[1;32min\u001b[0m \u001b[0mlines\u001b[0m\u001b[1;33m:\u001b[0m\u001b[1;33m\u001b[0m\u001b[1;33m\u001b[0m\u001b[0m\n\u001b[1;32m-> 1667\u001b[1;33m             \u001b[0mself\u001b[0m\u001b[1;33m.\u001b[0m\u001b[0madd_line\u001b[0m\u001b[1;33m(\u001b[0m\u001b[0mline\u001b[0m\u001b[1;33m)\u001b[0m\u001b[1;33m\u001b[0m\u001b[1;33m\u001b[0m\u001b[0m\n\u001b[0m\u001b[0;32m   1668\u001b[0m         \u001b[0mself\u001b[0m\u001b[1;33m.\u001b[0m\u001b[0mautoscale_view\u001b[0m\u001b[1;33m(\u001b[0m\u001b[0mscalex\u001b[0m\u001b[1;33m=\u001b[0m\u001b[0mscalex\u001b[0m\u001b[1;33m,\u001b[0m \u001b[0mscaley\u001b[0m\u001b[1;33m=\u001b[0m\u001b[0mscaley\u001b[0m\u001b[1;33m)\u001b[0m\u001b[1;33m\u001b[0m\u001b[1;33m\u001b[0m\u001b[0m\n\u001b[0;32m   1669\u001b[0m         \u001b[1;32mreturn\u001b[0m \u001b[0mlines\u001b[0m\u001b[1;33m\u001b[0m\u001b[1;33m\u001b[0m\u001b[0m\n",
      "\u001b[1;32mc:\\users\\chinmay\\appdata\\local\\programs\\python\\python37\\lib\\site-packages\\matplotlib\\axes\\_base.py\u001b[0m in \u001b[0;36madd_line\u001b[1;34m(self, line)\u001b[0m\n\u001b[0;32m   1900\u001b[0m             \u001b[0mline\u001b[0m\u001b[1;33m.\u001b[0m\u001b[0mset_clip_path\u001b[0m\u001b[1;33m(\u001b[0m\u001b[0mself\u001b[0m\u001b[1;33m.\u001b[0m\u001b[0mpatch\u001b[0m\u001b[1;33m)\u001b[0m\u001b[1;33m\u001b[0m\u001b[1;33m\u001b[0m\u001b[0m\n\u001b[0;32m   1901\u001b[0m \u001b[1;33m\u001b[0m\u001b[0m\n\u001b[1;32m-> 1902\u001b[1;33m         \u001b[0mself\u001b[0m\u001b[1;33m.\u001b[0m\u001b[0m_update_line_limits\u001b[0m\u001b[1;33m(\u001b[0m\u001b[0mline\u001b[0m\u001b[1;33m)\u001b[0m\u001b[1;33m\u001b[0m\u001b[1;33m\u001b[0m\u001b[0m\n\u001b[0m\u001b[0;32m   1903\u001b[0m         \u001b[1;32mif\u001b[0m \u001b[1;32mnot\u001b[0m \u001b[0mline\u001b[0m\u001b[1;33m.\u001b[0m\u001b[0mget_label\u001b[0m\u001b[1;33m(\u001b[0m\u001b[1;33m)\u001b[0m\u001b[1;33m:\u001b[0m\u001b[1;33m\u001b[0m\u001b[1;33m\u001b[0m\u001b[0m\n\u001b[0;32m   1904\u001b[0m             \u001b[0mline\u001b[0m\u001b[1;33m.\u001b[0m\u001b[0mset_label\u001b[0m\u001b[1;33m(\u001b[0m\u001b[1;34m'_line%d'\u001b[0m \u001b[1;33m%\u001b[0m \u001b[0mlen\u001b[0m\u001b[1;33m(\u001b[0m\u001b[0mself\u001b[0m\u001b[1;33m.\u001b[0m\u001b[0mlines\u001b[0m\u001b[1;33m)\u001b[0m\u001b[1;33m)\u001b[0m\u001b[1;33m\u001b[0m\u001b[1;33m\u001b[0m\u001b[0m\n",
      "\u001b[1;32mc:\\users\\chinmay\\appdata\\local\\programs\\python\\python37\\lib\\site-packages\\matplotlib\\axes\\_base.py\u001b[0m in \u001b[0;36m_update_line_limits\u001b[1;34m(self, line)\u001b[0m\n\u001b[0;32m   1922\u001b[0m         \u001b[0mFigures\u001b[0m \u001b[0mout\u001b[0m \u001b[0mthe\u001b[0m \u001b[0mdata\u001b[0m \u001b[0mlimit\u001b[0m \u001b[0mof\u001b[0m \u001b[0mthe\u001b[0m \u001b[0mgiven\u001b[0m \u001b[0mline\u001b[0m\u001b[1;33m,\u001b[0m \u001b[0mupdating\u001b[0m \u001b[0mself\u001b[0m\u001b[1;33m.\u001b[0m\u001b[0mdataLim\u001b[0m\u001b[1;33m.\u001b[0m\u001b[1;33m\u001b[0m\u001b[1;33m\u001b[0m\u001b[0m\n\u001b[0;32m   1923\u001b[0m         \"\"\"\n\u001b[1;32m-> 1924\u001b[1;33m         \u001b[0mpath\u001b[0m \u001b[1;33m=\u001b[0m \u001b[0mline\u001b[0m\u001b[1;33m.\u001b[0m\u001b[0mget_path\u001b[0m\u001b[1;33m(\u001b[0m\u001b[1;33m)\u001b[0m\u001b[1;33m\u001b[0m\u001b[1;33m\u001b[0m\u001b[0m\n\u001b[0m\u001b[0;32m   1925\u001b[0m         \u001b[1;32mif\u001b[0m \u001b[0mpath\u001b[0m\u001b[1;33m.\u001b[0m\u001b[0mvertices\u001b[0m\u001b[1;33m.\u001b[0m\u001b[0msize\u001b[0m \u001b[1;33m==\u001b[0m \u001b[1;36m0\u001b[0m\u001b[1;33m:\u001b[0m\u001b[1;33m\u001b[0m\u001b[1;33m\u001b[0m\u001b[0m\n\u001b[0;32m   1926\u001b[0m             \u001b[1;32mreturn\u001b[0m\u001b[1;33m\u001b[0m\u001b[1;33m\u001b[0m\u001b[0m\n",
      "\u001b[1;32mc:\\users\\chinmay\\appdata\\local\\programs\\python\\python37\\lib\\site-packages\\matplotlib\\lines.py\u001b[0m in \u001b[0;36mget_path\u001b[1;34m(self)\u001b[0m\n\u001b[0;32m   1025\u001b[0m         \"\"\"\n\u001b[0;32m   1026\u001b[0m         \u001b[1;32mif\u001b[0m \u001b[0mself\u001b[0m\u001b[1;33m.\u001b[0m\u001b[0m_invalidy\u001b[0m \u001b[1;32mor\u001b[0m \u001b[0mself\u001b[0m\u001b[1;33m.\u001b[0m\u001b[0m_invalidx\u001b[0m\u001b[1;33m:\u001b[0m\u001b[1;33m\u001b[0m\u001b[1;33m\u001b[0m\u001b[0m\n\u001b[1;32m-> 1027\u001b[1;33m             \u001b[0mself\u001b[0m\u001b[1;33m.\u001b[0m\u001b[0mrecache\u001b[0m\u001b[1;33m(\u001b[0m\u001b[1;33m)\u001b[0m\u001b[1;33m\u001b[0m\u001b[1;33m\u001b[0m\u001b[0m\n\u001b[0m\u001b[0;32m   1028\u001b[0m         \u001b[1;32mreturn\u001b[0m \u001b[0mself\u001b[0m\u001b[1;33m.\u001b[0m\u001b[0m_path\u001b[0m\u001b[1;33m\u001b[0m\u001b[1;33m\u001b[0m\u001b[0m\n\u001b[0;32m   1029\u001b[0m \u001b[1;33m\u001b[0m\u001b[0m\n",
      "\u001b[1;32mc:\\users\\chinmay\\appdata\\local\\programs\\python\\python37\\lib\\site-packages\\matplotlib\\lines.py\u001b[0m in \u001b[0;36mrecache\u001b[1;34m(self, always)\u001b[0m\n\u001b[0;32m    673\u001b[0m         \u001b[1;32mif\u001b[0m \u001b[0malways\u001b[0m \u001b[1;32mor\u001b[0m \u001b[0mself\u001b[0m\u001b[1;33m.\u001b[0m\u001b[0m_invalidy\u001b[0m\u001b[1;33m:\u001b[0m\u001b[1;33m\u001b[0m\u001b[1;33m\u001b[0m\u001b[0m\n\u001b[0;32m    674\u001b[0m             \u001b[0myconv\u001b[0m \u001b[1;33m=\u001b[0m \u001b[0mself\u001b[0m\u001b[1;33m.\u001b[0m\u001b[0mconvert_yunits\u001b[0m\u001b[1;33m(\u001b[0m\u001b[0mself\u001b[0m\u001b[1;33m.\u001b[0m\u001b[0m_yorig\u001b[0m\u001b[1;33m)\u001b[0m\u001b[1;33m\u001b[0m\u001b[1;33m\u001b[0m\u001b[0m\n\u001b[1;32m--> 675\u001b[1;33m             \u001b[0my\u001b[0m \u001b[1;33m=\u001b[0m \u001b[0m_to_unmasked_float_array\u001b[0m\u001b[1;33m(\u001b[0m\u001b[0myconv\u001b[0m\u001b[1;33m)\u001b[0m\u001b[1;33m.\u001b[0m\u001b[0mravel\u001b[0m\u001b[1;33m(\u001b[0m\u001b[1;33m)\u001b[0m\u001b[1;33m\u001b[0m\u001b[1;33m\u001b[0m\u001b[0m\n\u001b[0m\u001b[0;32m    676\u001b[0m         \u001b[1;32melse\u001b[0m\u001b[1;33m:\u001b[0m\u001b[1;33m\u001b[0m\u001b[1;33m\u001b[0m\u001b[0m\n\u001b[0;32m    677\u001b[0m             \u001b[0my\u001b[0m \u001b[1;33m=\u001b[0m \u001b[0mself\u001b[0m\u001b[1;33m.\u001b[0m\u001b[0m_y\u001b[0m\u001b[1;33m\u001b[0m\u001b[1;33m\u001b[0m\u001b[0m\n",
      "\u001b[1;32mc:\\users\\chinmay\\appdata\\local\\programs\\python\\python37\\lib\\site-packages\\matplotlib\\cbook\\__init__.py\u001b[0m in \u001b[0;36m_to_unmasked_float_array\u001b[1;34m(x)\u001b[0m\n\u001b[0;32m   1388\u001b[0m         \u001b[1;32mreturn\u001b[0m \u001b[0mnp\u001b[0m\u001b[1;33m.\u001b[0m\u001b[0mma\u001b[0m\u001b[1;33m.\u001b[0m\u001b[0masarray\u001b[0m\u001b[1;33m(\u001b[0m\u001b[0mx\u001b[0m\u001b[1;33m,\u001b[0m \u001b[0mfloat\u001b[0m\u001b[1;33m)\u001b[0m\u001b[1;33m.\u001b[0m\u001b[0mfilled\u001b[0m\u001b[1;33m(\u001b[0m\u001b[0mnp\u001b[0m\u001b[1;33m.\u001b[0m\u001b[0mnan\u001b[0m\u001b[1;33m)\u001b[0m\u001b[1;33m\u001b[0m\u001b[1;33m\u001b[0m\u001b[0m\n\u001b[0;32m   1389\u001b[0m     \u001b[1;32melse\u001b[0m\u001b[1;33m:\u001b[0m\u001b[1;33m\u001b[0m\u001b[1;33m\u001b[0m\u001b[0m\n\u001b[1;32m-> 1390\u001b[1;33m         \u001b[1;32mreturn\u001b[0m \u001b[0mnp\u001b[0m\u001b[1;33m.\u001b[0m\u001b[0masarray\u001b[0m\u001b[1;33m(\u001b[0m\u001b[0mx\u001b[0m\u001b[1;33m,\u001b[0m \u001b[0mfloat\u001b[0m\u001b[1;33m)\u001b[0m\u001b[1;33m\u001b[0m\u001b[1;33m\u001b[0m\u001b[0m\n\u001b[0m\u001b[0;32m   1391\u001b[0m \u001b[1;33m\u001b[0m\u001b[0m\n\u001b[0;32m   1392\u001b[0m \u001b[1;33m\u001b[0m\u001b[0m\n",
      "\u001b[1;32mc:\\users\\chinmay\\appdata\\local\\programs\\python\\python37\\lib\\site-packages\\numpy\\core\\_asarray.py\u001b[0m in \u001b[0;36masarray\u001b[1;34m(a, dtype, order)\u001b[0m\n\u001b[0;32m     83\u001b[0m \u001b[1;33m\u001b[0m\u001b[0m\n\u001b[0;32m     84\u001b[0m     \"\"\"\n\u001b[1;32m---> 85\u001b[1;33m     \u001b[1;32mreturn\u001b[0m \u001b[0marray\u001b[0m\u001b[1;33m(\u001b[0m\u001b[0ma\u001b[0m\u001b[1;33m,\u001b[0m \u001b[0mdtype\u001b[0m\u001b[1;33m,\u001b[0m \u001b[0mcopy\u001b[0m\u001b[1;33m=\u001b[0m\u001b[1;32mFalse\u001b[0m\u001b[1;33m,\u001b[0m \u001b[0morder\u001b[0m\u001b[1;33m=\u001b[0m\u001b[0morder\u001b[0m\u001b[1;33m)\u001b[0m\u001b[1;33m\u001b[0m\u001b[1;33m\u001b[0m\u001b[0m\n\u001b[0m\u001b[0;32m     86\u001b[0m \u001b[1;33m\u001b[0m\u001b[0m\n\u001b[0;32m     87\u001b[0m \u001b[1;33m\u001b[0m\u001b[0m\n",
      "\u001b[1;31mTypeError\u001b[0m: float() argument must be a string or a number, not 'dict'"
     ]
    },
    {
     "data": {
      "image/png": "[encoded data removed]",
      "text/plain": [
       "<Figure size 432x288 with 1 Axes>"
      ]
     },
     "metadata": {
      "needs_background": "light"
     },
     "output_type": "display_data"
    }
   ],
   "source": []
  },
  {
   "cell_type": "code",
   "execution_count": null,
   "metadata": {},
   "outputs": [],
   "source": []
  }
 ],
 "metadata": {
  "kernelspec": {
   "display_name": "Python 3",
   "language": "python",
   "name": "python3"
  },
  "language_info": {
   "codemirror_mode": {
    "name": "ipython",
    "version": 3
   },
   "file_extension": ".py",
   "mimetype": "text/x-python",
   "name": "python",
   "nbconvert_exporter": "python",
   "pygments_lexer": "ipython3",
   "version": "3.7.6"
  }
 },
 "nbformat": 4,
 "nbformat_minor": 4
}
